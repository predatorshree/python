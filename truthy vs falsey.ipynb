{
 "cells": [
  {
   "cell_type": "code",
   "execution_count": 12,
   "id": "169c8e73",
   "metadata": {},
   "outputs": [
    {
     "name": "stdout",
     "output_type": "stream",
     "text": [
      "True\n",
      "False\n",
      "you are not of age\n",
      "hello\n"
     ]
    }
   ],
   "source": [
    "cold=bool('')\n",
    "li=bool(0)\n",
    "\n",
    "print(bool(-1))\n",
    "print(bool(0))\n",
    "\n",
    "if cold and li:\n",
    "    print(\"you are old enough to drive!you got the licence, you can drive\")\n",
    "\n",
    "else:\n",
    "    print('you are not of age')\n",
    "\n",
    "print('hello')\n",
    "  \n",
    "    "
   ]
  }
 ],
 "metadata": {
  "kernelspec": {
   "display_name": "Python 3 (ipykernel)",
   "language": "python",
   "name": "python3"
  },
  "language_info": {
   "codemirror_mode": {
    "name": "ipython",
    "version": 3
   },
   "file_extension": ".py",
   "mimetype": "text/x-python",
   "name": "python",
   "nbconvert_exporter": "python",
   "pygments_lexer": "ipython3",
   "version": "3.11.1"
  }
 },
 "nbformat": 4,
 "nbformat_minor": 5
}
