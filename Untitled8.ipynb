{
 "cells": [
  {
   "cell_type": "code",
   "execution_count": 3,
   "id": "c2eaf1c8",
   "metadata": {},
   "outputs": [
    {
     "name": "stdout",
     "output_type": "stream",
     "text": [
      "1\n",
      "2\n",
      "3\n"
     ]
    }
   ],
   "source": [
    "x= (1)\n",
    "y=int(2.8)\n",
    "z=int(\"3\")\n",
    "print(x)\n",
    "print(y)\n",
    "print(z)\n"
   ]
  },
  {
   "cell_type": "code",
   "execution_count": 5,
   "id": "36f74173",
   "metadata": {},
   "outputs": [
    {
     "name": "stdout",
     "output_type": "stream",
     "text": [
      "1.0\n",
      "2.8\n",
      "3.0\n",
      "4.2\n"
     ]
    }
   ],
   "source": [
    "\n",
    "# a=float(1)\n",
    "# b=float(2.8)\n",
    "# c=float(\"3\")\n",
    "# w=float(\"4.2\")\n",
    "\n",
    "print(a)\n",
    "print(b)\n",
    "print(c)\n",
    "print(w)"
   ]
  },
  {
   "cell_type": "code",
   "execution_count": 6,
   "id": "a1b4cc69",
   "metadata": {},
   "outputs": [
    {
     "name": "stdout",
     "output_type": "stream",
     "text": [
      "s1\n",
      "2\n",
      "3.0\n"
     ]
    }
   ],
   "source": [
    "# o=str(\"s1\")\n",
    "# k=str(2)\n",
    "# d=str(3.0)\n",
    "# print(o)\n",
    "# print(k)\n",
    "# print(d)\n"
   ]
  },
  {
   "cell_type": "code",
   "execution_count": 12,
   "id": "96ae840f",
   "metadata": {},
   "outputs": [
    {
     "name": "stdout",
     "output_type": "stream",
     "text": [
      "hello\n",
      "hello\n",
      "hello\n",
      " abcabcabc,\n",
      "      xyzxyz,\n",
      "      pqrpqrpqr,\n",
      "      qweqweqweqwe.\n",
      "hello\n"
     ]
    }
   ],
   "source": [
    "print(\"hello\")\n",
    "print('hello')\n",
    "a=\"hello\"\n",
    "print(a)\n",
    "b=\"\"\" abcabcabc,\n",
    "      xyzxyz,\n",
    "      pqrpqrpqr,\n",
    "      qweqweqweqwe.\"\"\"\n",
    "print(b)\n",
    "\n",
    "# e=\"hello,world!\"\n",
    "# print(e[2:5])\n",
    "\n",
    "# e=\"hello,world!\"\n",
    "# print(e[:5])\n",
    "\n",
    "\n",
    "e=\"hello,world!\"\n",
    "print(e[-5:-2])\n",
    "\n",
    "\n"
   ]
  },
  {
   "cell_type": "code",
   "execution_count": 17,
   "id": "e2cb6c14",
   "metadata": {},
   "outputs": [
    {
     "name": "stdout",
     "output_type": "stream",
     "text": [
      "shree KAPOTE\n",
      "SHREE\n",
      " kapote\n"
     ]
    }
   ],
   "source": [
    "x1='shree'\n",
    "x2=' KAPOTE'\n",
    "print(x1+x2)\n",
    "print(x1.upper())\n",
    "print(x2.lower())"
   ]
  }
 ],
 "metadata": {
  "kernelspec": {
   "display_name": "Python 3 (ipykernel)",
   "language": "python",
   "name": "python3"
  },
  "language_info": {
   "codemirror_mode": {
    "name": "ipython",
    "version": 3
   },
   "file_extension": ".py",
   "mimetype": "text/x-python",
   "name": "python",
   "nbconvert_exporter": "python",
   "pygments_lexer": "ipython3",
   "version": "3.11.1"
  }
 },
 "nbformat": 4,
 "nbformat_minor": 5
}
