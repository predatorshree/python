{
 "cells": [
  {
   "cell_type": "code",
   "execution_count": null,
   "id": "be78e086",
   "metadata": {},
   "outputs": [],
   "source": [
    "#lists\n",
    "li=[1,2,3,4,5]\n",
    "li2=['a','b','c']\n",
    "li3=[1,2.5,'a',3,'b']\n",
    "\n",
    "print(bin(90))\n",
    "print(int(\"0b1011010\",2))"
   ]
  },
  {
   "cell_type": "code",
   "execution_count": 34,
   "id": "b34bce31",
   "metadata": {},
   "outputs": [
    {
     "name": "stdout",
     "output_type": "stream",
     "text": [
      "['water bottle', 'notebook', 'phone', 'apple']\n",
      "['water bottle', 'notebook', 'phone', 'apple']\n"
     ]
    }
   ],
   "source": [
    "#lists_slicing\n",
    "gocart=[\n",
    "    'pen',\n",
    "    'notebook',\n",
    "    'phone',\n",
    "    'apple'\n",
    "]\n",
    "gocart[0]='iphone' #lists are mutable\n",
    "nwcart=gocart[0:4]\n",
    "nwcart=gocart\n",
    "nwcart[0]='water bottle'\n",
    "print(nwcart)\n",
    "\n",
    "print(gocart)\n",
    "\n",
    "\n",
    "\n"
   ]
  },
  {
   "cell_type": "code",
   "execution_count": null,
   "id": "c952d462",
   "metadata": {},
   "outputs": [],
   "source": [
    "# "
   ]
  }
 ],
 "metadata": {
  "kernelspec": {
   "display_name": "Python 3 (ipykernel)",
   "language": "python",
   "name": "python3"
  },
  "language_info": {
   "codemirror_mode": {
    "name": "ipython",
    "version": 3
   },
   "file_extension": ".py",
   "mimetype": "text/x-python",
   "name": "python",
   "nbconvert_exporter": "python",
   "pygments_lexer": "ipython3",
   "version": "3.11.1"
  }
 },
 "nbformat": 4,
 "nbformat_minor": 5
}
