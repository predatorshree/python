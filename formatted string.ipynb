{
 "cells": [
  {
   "cell_type": "code",
   "execution_count": 33,
   "id": "3ee6699c",
   "metadata": {},
   "outputs": [
    {
     "name": "stdout",
     "output_type": "stream",
     "text": [
      "hello shree kapote ,you are 20 years old\n"
     ]
    }
   ],
   "source": [
    "name='shree kapote'#formatted strings\n",
    "age=20\n",
    "print(f'hello {name} ,you are {age} years old')"
   ]
  },
  {
   "cell_type": "code",
   "execution_count": 22,
   "id": "c3a07a18",
   "metadata": {},
   "outputs": [
    {
     "name": "stdout",
     "output_type": "stream",
     "text": [
      "hello shree kapote ,you are 20 years old\n"
     ]
    }
   ],
   "source": [
    "name='shree kapote'\n",
    "age=20\n",
    "print('hello {} ,you are {} years old'.format(name,age))"
   ]
  },
  {
   "cell_type": "code",
   "execution_count": 30,
   "id": "46890877",
   "metadata": {},
   "outputs": [
    {
     "name": "stdout",
     "output_type": "stream",
     "text": [
      "hello raj ,you are 55 years old\n"
     ]
    }
   ],
   "source": [
    "name='shree kapote'\n",
    "age=20\n",
    "print('hello {new_name} ,you are {age} years old'.format(new_name='raj',age=55))"
   ]
  }
 ],
 "metadata": {
  "kernelspec": {
   "display_name": "Python 3 (ipykernel)",
   "language": "python",
   "name": "python3"
  },
  "language_info": {
   "codemirror_mode": {
    "name": "ipython",
    "version": 3
   },
   "file_extension": ".py",
   "mimetype": "text/x-python",
   "name": "python",
   "nbconvert_exporter": "python",
   "pygments_lexer": "ipython3",
   "version": "3.11.1"
  }
 },
 "nbformat": 4,
 "nbformat_minor": 5
}
