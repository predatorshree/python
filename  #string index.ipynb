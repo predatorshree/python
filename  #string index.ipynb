{
 "cells": [
  {
   "cell_type": "code",
   "execution_count": 6,
   "id": "11ea9641",
   "metadata": {},
   "outputs": [
    {
     "name": "stdout",
     "output_type": "stream",
     "text": [
      "me me me\n"
     ]
    }
   ],
   "source": [
    "hello='me me me' #string index\n",
    "#      01234567\n",
    "\n",
    "\n",
    "# [start:stop]\n",
    "print(hello)\n"
   ]
  },
  {
   "cell_type": "code",
   "execution_count": 10,
   "id": "5cd737f2",
   "metadata": {},
   "outputs": [
    {
     "name": "stdout",
     "output_type": "stream",
     "text": [
      "0123456\n"
     ]
    }
   ],
   "source": [
    "hello='01234567'#string index\n",
    "print(hello[0:7])"
   ]
  },
  {
   "cell_type": "code",
   "execution_count": 12,
   "id": "60411d65",
   "metadata": {},
   "outputs": [
    {
     "name": "stdout",
     "output_type": "stream",
     "text": [
      "0246\n"
     ]
    }
   ],
   "source": [
    "hello='01234567'#string index\n",
    "# [start:stop:stepover]\n",
    "print(hello[0:8:2])\n"
   ]
  },
  {
   "cell_type": "code",
   "execution_count": 14,
   "id": "4d5f1aae",
   "metadata": {},
   "outputs": [
    {
     "name": "stdout",
     "output_type": "stream",
     "text": [
      "7\n"
     ]
    }
   ],
   "source": [
    "hello='01234567'\n",
    "print(hello[-1]) #negative index"
   ]
  },
  {
   "cell_type": "code",
   "execution_count": 16,
   "id": "835b8825",
   "metadata": {},
   "outputs": [
    {
     "name": "stdout",
     "output_type": "stream",
     "text": [
      "76543210\n"
     ]
    }
   ],
   "source": [
    "hello='01234567'\n",
    "# [start:stop:stepover]\n",
    "print(hello[::-1])# reverse an  order"
   ]
  }
 ],
 "metadata": {
  "kernelspec": {
   "display_name": "Python 3 (ipykernel)",
   "language": "python",
   "name": "python3"
  },
  "language_info": {
   "codemirror_mode": {
    "name": "ipython",
    "version": 3
   },
   "file_extension": ".py",
   "mimetype": "text/x-python",
   "name": "python",
   "nbconvert_exporter": "python",
   "pygments_lexer": "ipython3",
   "version": "3.11.1"
  }
 },
 "nbformat": 4,
 "nbformat_minor": 5
}
