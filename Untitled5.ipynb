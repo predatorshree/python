{
 "cells": [
  {
   "cell_type": "code",
   "execution_count": 22,
   "id": "d0c19734",
   "metadata": {},
   "outputs": [
    {
     "name": "stdout",
     "output_type": "stream",
     "text": [
      "you are old enough to drive!, you have license!\n",
      "hello\n"
     ]
    }
   ],
   "source": [
    "old=True\n",
    "licenced =True\n",
    "\n",
    "if old and licenced:\n",
    "    print(\"you are old enough to drive!, you have license!\")\n",
    "elif licenced:\n",
    "    print(\"you can drive now\")\n",
    "else:  \n",
    "    print(\"you are not of age!\")\n",
    "    \n",
    "print(\"hello\")"
   ]
  }
 ],
 "metadata": {
  "kernelspec": {
   "display_name": "Python 3 (ipykernel)",
   "language": "python",
   "name": "python3"
  },
  "language_info": {
   "codemirror_mode": {
    "name": "ipython",
    "version": 3
   },
   "file_extension": ".py",
   "mimetype": "text/x-python",
   "name": "python",
   "nbconvert_exporter": "python",
   "pygments_lexer": "ipython3",
   "version": "3.11.1"
  }
 },
 "nbformat": 4,
 "nbformat_minor": 5
}
