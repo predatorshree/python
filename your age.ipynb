{
 "cells": [
  {
   "cell_type": "code",
   "execution_count": 5,
   "id": "14fac793",
   "metadata": {},
   "outputs": [
    {
     "name": "stdout",
     "output_type": "stream",
     "text": [
      "what year you were born?2003\n",
      "<class 'str'>\n",
      "your age is: 20\n"
     ]
    }
   ],
   "source": [
    "birth= input(\"what year you were born?\")\n",
    "print(type (birth))\n",
    "\n",
    "age= 2023 - int(birth)\n",
    "\n",
    "print(f'your age is: {age}')"
   ]
  }
 ],
 "metadata": {
  "kernelspec": {
   "display_name": "Python 3 (ipykernel)",
   "language": "python",
   "name": "python3"
  },
  "language_info": {
   "codemirror_mode": {
    "name": "ipython",
    "version": 3
   },
   "file_extension": ".py",
   "mimetype": "text/x-python",
   "name": "python",
   "nbconvert_exporter": "python",
   "pygments_lexer": "ipython3",
   "version": "3.11.1"
  }
 },
 "nbformat": 4,
 "nbformat_minor": 5
}
