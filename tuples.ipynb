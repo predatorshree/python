{
 "cells": [
  {
   "cell_type": "code",
   "execution_count": 12,
   "id": "b2cbf024",
   "metadata": {},
   "outputs": [
    {
     "name": "stdout",
     "output_type": "stream",
     "text": [
      "[5, 4, 3, 2]\n",
      "(1, 2, 3, 4, 5)\n",
      "True\n"
     ]
    }
   ],
   "source": [
    "m_tuple=(1,2,3,4,5)\n",
    "# m_tuple.reverse()\n",
    "m=[1,2,3,4,5]\n",
    "m.reverse()\n",
    "m.pop()\n",
    "print(m)\n",
    "print(m_tuple)\n",
    "print(5 in m_tuple)"
   ]
  },
  {
   "cell_type": "code",
   "execution_count": 13,
   "id": "8c06e8be",
   "metadata": {},
   "outputs": [
    {
     "name": "stdout",
     "output_type": "stream",
     "text": [
      "1\n",
      "2\n",
      "3\n",
      "[4, 5]\n"
     ]
    }
   ],
   "source": [
    "x,y,z,*o=(1,2,3,4,5)\n",
    "\n",
    "print(x)\n",
    "print(y)\n",
    "print(z)\n",
    "print(o)"
   ]
  },
  {
   "cell_type": "code",
   "execution_count": 19,
   "id": "c2895495",
   "metadata": {},
   "outputs": [
    {
     "name": "stdout",
     "output_type": "stream",
     "text": [
      "6\n",
      "4\n",
      "2\n"
     ]
    }
   ],
   "source": [
    "k=(1,2,3,4,5,5)\n",
    "print(len(k))\n",
    "print(k.index(5))\n",
    "print(k.count(5))"
   ]
  }
 ],
 "metadata": {
  "kernelspec": {
   "display_name": "Python 3 (ipykernel)",
   "language": "python",
   "name": "python3"
  },
  "language_info": {
   "codemirror_mode": {
    "name": "ipython",
    "version": 3
   },
   "file_extension": ".py",
   "mimetype": "text/x-python",
   "name": "python",
   "nbconvert_exporter": "python",
   "pygments_lexer": "ipython3",
   "version": "3.11.1"
  }
 },
 "nbformat": 4,
 "nbformat_minor": 5
}
