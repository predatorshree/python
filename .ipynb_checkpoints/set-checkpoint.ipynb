{
 "cells": [
  {
   "cell_type": "code",
   "execution_count": 3,
   "id": "6e32e1c1",
   "metadata": {},
   "outputs": [
    {
     "name": "stdout",
     "output_type": "stream",
     "text": [
      "{1, 2, 3, 4, 5, 6}\n",
      "{1, 2, 3, 4, 5, 6}\n",
      "{1, 2, 3, 4, 5, 6, 100}\n"
     ]
    }
   ],
   "source": [
    "m_set={1,2,3,4,5,6} \n",
    "print(m_set)\n",
    "mset={1,2,3,4,5,6,6}#only return the unique\n",
    "print(mset)\n",
    "mset.add(2)#only add the unique\n",
    "mset.add(100)\n",
    "print(mset)"
   ]
  },
  {
   "cell_type": "code",
   "execution_count": 6,
   "id": "15ad4866",
   "metadata": {},
   "outputs": [
    {
     "name": "stdout",
     "output_type": "stream",
     "text": [
      "{1, 2, 3, 4, 5, 6}\n"
     ]
    }
   ],
   "source": [
    "m_list=[1,2, 3, 4, 5, 6,6]\n",
    "print(set(m_list))   #set function\n",
    "\n"
   ]
  },
  {
   "cell_type": "code",
   "execution_count": 11,
   "id": "6dd2807a",
   "metadata": {},
   "outputs": [
    {
     "name": "stdout",
     "output_type": "stream",
     "text": [
      "True\n",
      "6\n",
      "[1, 2, 3, 4, 5, 6]\n"
     ]
    }
   ],
   "source": [
    "mo_set={1,2, 3, 4, 5, 6,6}\n",
    "# print(mo_set[3]) #set does not support indexing\n",
    "print(1 in mo_set)\n",
    "print(len(mo_set))\n",
    "#convert in list\n",
    "print(list(mo_set))"
   ]
  },
  {
   "cell_type": "code",
   "execution_count": 14,
   "id": "3c636530",
   "metadata": {},
   "outputs": [
    {
     "name": "stdout",
     "output_type": "stream",
     "text": [
      "{1, 2, 3, 4, 5, 6}\n",
      "set()\n"
     ]
    }
   ],
   "source": [
    "mk_set={1,2, 3, 4, 5, 6,6}\n",
    "nmo_set=mk_set.copy()\n",
    "mk_set.clear()\n",
    "print(nmo_set)\n",
    "print(mk_set)"
   ]
  },
  {
   "cell_type": "code",
   "execution_count": 41,
   "id": "99478b1b",
   "metadata": {},
   "outputs": [
    {
     "name": "stdout",
     "output_type": "stream",
     "text": [
      "True\n"
     ]
    }
   ],
   "source": [
    "ko={1,2,3,4,5}\n",
    "ok={4,5,6,7,8,9,10}\n",
    "#                          #methods\n",
    "# print(ko.difference(ok)) \n",
    "# print(ko.discard(5))\n",
    "#print(ko)\n",
    "\n",
    "# print(ko.difference_update(ok))\n",
    "# print(ko)\n",
    "\n",
    "# print(ko.intersection(ok))\n",
    "# print(ko.isdisjoint(ok))\n",
    "\n",
    "# print(ko.union(ok))\n",
    "# print(ko|ok)\n",
    "# print(ko&ok)\n",
    "# lo={4,5}\n",
    "\n",
    "# print(lo.issubset(ok))\n",
    "print(ok.issuperset(lo))"
   ]
  }
 ],
 "metadata": {
  "kernelspec": {
   "display_name": "Python 3 (ipykernel)",
   "language": "python",
   "name": "python3"
  },
  "language_info": {
   "codemirror_mode": {
    "name": "ipython",
    "version": 3
   },
   "file_extension": ".py",
   "mimetype": "text/x-python",
   "name": "python",
   "nbconvert_exporter": "python",
   "pygments_lexer": "ipython3",
   "version": "3.11.1"
  }
 },
 "nbformat": 4,
 "nbformat_minor": 5
}
