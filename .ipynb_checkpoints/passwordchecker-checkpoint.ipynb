{
 "cells": [
  {
   "cell_type": "code",
   "execution_count": null,
   "id": "3ad0d7cb",
   "metadata": {},
   "outputs": [],
   "source": [
    "username=input(\"Enter your username\")\n",
    "password=input(\"Enter your password\")\n",
    "\n",
    "password_length= len(password)\n",
    "hidden_password= password_length * \"*\"\n",
    "\n",
    "print(f'{username},your password,{hidden_password},is{password_length}character long')\n",
    "\n"
   ]
  },
  {
   "cell_type": "code",
   "execution_count": null,
   "id": "ab59e194",
   "metadata": {},
   "outputs": [],
   "source": []
  }
 ],
 "metadata": {
  "kernelspec": {
   "display_name": "Python 3 (ipykernel)",
   "language": "python",
   "name": "python3"
  },
  "language_info": {
   "codemirror_mode": {
    "name": "ipython",
    "version": 3
   },
   "file_extension": ".py",
   "mimetype": "text/x-python",
   "name": "python",
   "nbconvert_exporter": "python",
   "pygments_lexer": "ipython3",
   "version": "3.11.1"
  }
 },
 "nbformat": 4,
 "nbformat_minor": 5
}
