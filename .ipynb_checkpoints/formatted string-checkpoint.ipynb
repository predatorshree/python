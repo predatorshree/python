{
 "cells": [
  {
   "cell_type": "code",
   "execution_count": 8,
   "id": "665c65f7",
   "metadata": {},
   "outputs": [],
   "source": [
    "#formatted strings\n"
   ]
  },
  {
   "cell_type": "code",
   "execution_count": 22,
   "id": "852e2747",
   "metadata": {},
   "outputs": [
    {
     "name": "stdout",
     "output_type": "stream",
     "text": [
      "hello shree kapote ,you are 20 years old\n"
     ]
    }
   ],
   "source": [
    "name='shree kapote'\n",
    "age=20\n",
    "print('hello {} ,you are {} years old'.format(name,age))"
   ]
  },
  {
   "cell_type": "code",
   "execution_count": 26,
   "id": "81cfd3ac",
   "metadata": {},
   "outputs": [
    {
     "ename": "NameError",
     "evalue": "name 'raj' is not defined",
     "output_type": "error",
     "traceback": [
      "\u001b[1;31m---------------------------------------------------------------------------\u001b[0m",
      "\u001b[1;31mNameError\u001b[0m                                 Traceback (most recent call last)",
      "Cell \u001b[1;32mIn[26], line 3\u001b[0m\n\u001b[0;32m      1\u001b[0m name\u001b[38;5;241m=\u001b[39m\u001b[38;5;124m'\u001b[39m\u001b[38;5;124mshree kapote\u001b[39m\u001b[38;5;124m'\u001b[39m\n\u001b[0;32m      2\u001b[0m age\u001b[38;5;241m=\u001b[39m\u001b[38;5;241m20\u001b[39m\n\u001b[1;32m----> 3\u001b[0m \u001b[38;5;28mprint\u001b[39m(\u001b[38;5;124m'\u001b[39m\u001b[38;5;124mhello \u001b[39m\u001b[38;5;132;01m{new_name}\u001b[39;00m\u001b[38;5;124m ,you are \u001b[39m\u001b[38;5;132;01m{age}\u001b[39;00m\u001b[38;5;124m years old\u001b[39m\u001b[38;5;124m'\u001b[39m\u001b[38;5;241m.\u001b[39mformat(new_name\u001b[38;5;241m=\u001b[39m\u001b[43mraj\u001b[49m,age\u001b[38;5;241m=\u001b[39m\u001b[38;5;241m55\u001b[39m))\n",
      "\u001b[1;31mNameError\u001b[0m: name 'raj' is not defined"
     ]
    }
   ],
   "source": [
    "name='shree kapote'\n",
    "age=20\n",
    "print('hello {new_name} ,you are {age} years old'.format(new_name='raj',age=55))"
   ]
  },
  {
   "cell_type": "code",
   "execution_count": null,
   "id": "9aac219e",
   "metadata": {},
   "outputs": [],
   "source": []
  }
 ],
 "metadata": {
  "kernelspec": {
   "display_name": "Python 3 (ipykernel)",
   "language": "python",
   "name": "python3"
  },
  "language_info": {
   "codemirror_mode": {
    "name": "ipython",
    "version": 3
   },
   "file_extension": ".py",
   "mimetype": "text/x-python",
   "name": "python",
   "nbconvert_exporter": "python",
   "pygments_lexer": "ipython3",
   "version": "3.11.1"
  }
 },
 "nbformat": 4,
 "nbformat_minor": 5
}
