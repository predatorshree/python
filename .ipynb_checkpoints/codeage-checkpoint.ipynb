{
 "cells": [
  {
   "cell_type": "code",
   "execution_count": 1,
   "id": "30c2bef1",
   "metadata": {},
   "outputs": [],
   "source": [
    "name='shree'\n",
    "is_cool=False\n",
    "\n",
    "is_cool=True\n",
    " \n",
    "    \n"
   ]
  },
  {
   "cell_type": "code",
   "execution_count": 10,
   "id": "9a21b822",
   "metadata": {},
   "outputs": [
    {
     "name": "stdout",
     "output_type": "stream",
     "text": [
      "it's good\n"
     ]
    }
   ],
   "source": [
    "name='shree kapote'\n",
    "age=20\n",
    "relational_status='single'\n",
    "\n",
    "relational_status='it\\'s good'\n",
    "\n",
    "print(relational_status)"
   ]
  },
  {
   "cell_type": "code",
   "execution_count": 15,
   "id": "ea1e4908",
   "metadata": {},
   "outputs": [
    {
     "name": "stdout",
     "output_type": "stream",
     "text": [
      "what year you were born?2003\n",
      "your current age is20\n"
     ]
    }
   ],
   "source": [
    "birth_year= input('what year you were born?')\n",
    "current_age= 2023- int(birth_year)\n",
    "print(f'your current age is{Current_age}')"
   ]
  }
 ],
 "metadata": {
  "kernelspec": {
   "display_name": "Python 3 (ipykernel)",
   "language": "python",
   "name": "python3"
  },
  "language_info": {
   "codemirror_mode": {
    "name": "ipython",
    "version": 3
   },
   "file_extension": ".py",
   "mimetype": "text/x-python",
   "name": "python",
   "nbconvert_exporter": "python",
   "pygments_lexer": "ipython3",
   "version": "3.11.1"
  }
 },
 "nbformat": 4,
 "nbformat_minor": 5
}
