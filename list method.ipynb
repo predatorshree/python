{
 "cells": [
  {
   "cell_type": "markdown",
   "id": "6e77c7c6",
   "metadata": {},
   "source": [
    " cart=[1,2,3,4,5]\n",
    "print (len(cart))\n",
    "\n",
    "#adding\n",
    "cart.append(100)\n",
    "new_cart=cart\n",
    "new_cart=(cart.append(100))\n",
    "\n",
    "print(cart)\n",
    "print(new_cart)\n",
    "\n",
    "#insert\n",
    "cart.insert(4,72)\n",
    "print(cart)\n",
    "\n",
    " cart.extend([101,102])\n",
    "print(cart)\n",
    "\n",
    "\n",
    "#removing\n",
    "cart.pop()\n",
    "cart.pop()\n",
    "cart.pop()\n",
    "print(cart)"
   ]
  }
 ],
 "metadata": {
  "kernelspec": {
   "display_name": "Python 3 (ipykernel)",
   "language": "python",
   "name": "python3"
  },
  "language_info": {
   "codemirror_mode": {
    "name": "ipython",
    "version": 3
   },
   "file_extension": ".py",
   "mimetype": "text/x-python",
   "name": "python",
   "nbconvert_exporter": "python",
   "pygments_lexer": "ipython3",
   "version": "3.11.1"
  }
 },
 "nbformat": 4,
 "nbformat_minor": 5
}
