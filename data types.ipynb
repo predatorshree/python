{
 "cells": [
  {
   "cell_type": "code",
   "execution_count": 1,
   "id": "e3789631",
   "metadata": {},
   "outputs": [
    {
     "data": {
      "text/plain": [
       "dict"
      ]
     },
     "execution_count": 1,
     "metadata": {},
     "output_type": "execute_result"
    }
   ],
   "source": [
    "#fundatmentaldata types\n",
    "int\n",
    "float\n",
    "bool\n",
    "str\n",
    "list\n",
    "tuple\n",
    "set\n",
    "dict   "
   ]
  },
  {
   "cell_type": "code",
   "execution_count": 2,
   "id": "b54703b7",
   "metadata": {},
   "outputs": [],
   "source": [
    "#classes->custom types\n",
    "\n"
   ]
  },
  {
   "cell_type": "code",
   "execution_count": 3,
   "id": "48fefc79",
   "metadata": {},
   "outputs": [],
   "source": [
    "#specialized Data types\n"
   ]
  },
  {
   "cell_type": "code",
   "execution_count": 4,
   "id": "41472cd0",
   "metadata": {},
   "outputs": [],
   "source": [
    "None"
   ]
  },
  {
   "cell_type": "code",
   "execution_count": null,
   "id": "7a45e67e",
   "metadata": {},
   "outputs": [],
   "source": []
  }
 ],
 "metadata": {
  "kernelspec": {
   "display_name": "Python 3 (ipykernel)",
   "language": "python",
   "name": "python3"
  },
  "language_info": {
   "codemirror_mode": {
    "name": "ipython",
    "version": 3
   },
   "file_extension": ".py",
   "mimetype": "text/x-python",
   "name": "python",
   "nbconvert_exporter": "python",
   "pygments_lexer": "ipython3",
   "version": "3.11.1"
  }
 },
 "nbformat": 4,
 "nbformat_minor": 5
}
