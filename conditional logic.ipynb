{
 "cells": [
  {
   "cell_type": "code",
   "execution_count": 20,
   "id": "2800cf0c",
   "metadata": {},
   "outputs": [
    {
     "name": "stdout",
     "output_type": "stream",
     "text": [
      "you are not of age\n",
      "hello\n"
     ]
    }
   ],
   "source": [
    "old=True\n",
    "l=False\n",
    "\n",
    "if old and l:\n",
    "    print(\"you are old enough to drive!you got the licence, you can drive\")\n",
    "# elif l:\n",
    "#     print(\"you got the licence, you can drive\")\n",
    "else:\n",
    "    print('you are not of age')\n",
    "\n",
    "print('hello')\n",
    "  \n",
    "    \n",
    "    \n",
    "    \n",
    "    \n"
   ]
  },
  {
   "cell_type": "code",
   "execution_count": 22,
   "id": "a14f9a3a",
   "metadata": {},
   "outputs": [
    {
     "name": "stdout",
     "output_type": "stream",
     "text": [
      "you are not of age\n",
      "hello\n"
     ]
    }
   ],
   "source": []
  }
 ],
 "metadata": {
  "kernelspec": {
   "display_name": "Python 3 (ipykernel)",
   "language": "python",
   "name": "python3"
  },
  "language_info": {
   "codemirror_mode": {
    "name": "ipython",
    "version": 3
   },
   "file_extension": ".py",
   "mimetype": "text/x-python",
   "name": "python",
   "nbconvert_exporter": "python",
   "pygments_lexer": "ipython3",
   "version": "3.11.1"
  }
 },
 "nbformat": 4,
 "nbformat_minor": 5
}
