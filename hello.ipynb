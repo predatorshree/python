{
 "cells": [
  {
   "cell_type": "code",
   "execution_count": 1,
   "id": "fa2380e2",
   "metadata": {},
   "outputs": [
    {
     "name": "stdout",
     "output_type": "stream",
     "text": [
      "hello shree\n"
     ]
    }
   ],
   "source": [
    "print(\"hello shree\")"
   ]
  },
  {
   "cell_type": "code",
   "execution_count": null,
   "id": "83bb4615",
   "metadata": {},
   "outputs": [
    {
     "name": "stdout",
     "output_type": "stream",
     "text": [
      "jupyter notebook\n",
      "jupyter notebook\n",
      "jupyter notebook\n",
      "jupyter notebook\n",
      "jupyter notebook\n",
      "jupyter notebook\n",
      "jupyter notebook\n",
      "jupyter notebook\n",
      "jupyter notebook\n",
      "jupyter notebook\n",
      "jupyter notebook\n",
      "jupyter notebook\n",
      "jupyter notebook\n",
      "jupyter notebook\n",
      "jupyter notebook\n",
      "jupyter notebook\n",
      "jupyter notebook\n",
      "jupyter notebook\n",
      "jupyter notebook\n",
      "jupyter notebook\n"
     ]
    }
   ],
   "source": [
    "birth_year = input(\"what year you were born?\")\n",
    "\n",
    "age= 2023 - birth_year\n",
    "\n",
    "print(f'your age is: {age}')"
   ]
  },
  {
   "cell_type": "code",
   "execution_count": null,
   "id": "47b0122a",
   "metadata": {},
   "outputs": [],
   "source": []
  }
 ],
 "metadata": {
  "kernelspec": {
   "display_name": "Python 3 (ipykernel)",
   "language": "python",
   "name": "python3"
  },
  "language_info": {
   "codemirror_mode": {
    "name": "ipython",
    "version": 3
   },
   "file_extension": ".py",
   "mimetype": "text/x-python",
   "name": "python",
   "nbconvert_exporter": "python",
   "pygments_lexer": "ipython3",
   "version": "3.11.1"
  }
 },
 "nbformat": 4,
 "nbformat_minor": 5
}
