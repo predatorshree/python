{
 "cells": [
  {
   "cell_type": "code",
   "execution_count": 5,
   "id": "06886b06",
   "metadata": {},
   "outputs": [
    {
     "name": "stdout",
     "output_type": "stream",
     "text": [
      "shreeRkapote\n"
     ]
    }
   ],
   "source": [
    "hello='shreeRkapote'\n",
    "print(hello[0:len(hello)])\n"
   ]
  },
  {
   "cell_type": "code",
   "execution_count": 6,
   "id": "a7186155",
   "metadata": {},
   "outputs": [
    {
     "name": "stdout",
     "output_type": "stream",
     "text": [
      "12\n"
     ]
    }
   ],
   "source": [
    "print(len('shreeekapote'))"
   ]
  },
  {
   "cell_type": "code",
   "execution_count": 9,
   "id": "0a45a838",
   "metadata": {},
   "outputs": [
    {
     "name": "stdout",
     "output_type": "stream",
     "text": [
      "14\n"
     ]
    }
   ],
   "source": [
    "hello='hello my name is shree kapote'\n",
    "\n",
    "print(hello.find('is'))"
   ]
  },
  {
   "cell_type": "code",
   "execution_count": 11,
   "id": "fc3f9897",
   "metadata": {},
   "outputs": [
    {
     "name": "stdout",
     "output_type": "stream",
     "text": [
      "hello my name is shree Rajendra kapote\n",
      "hello my name is shree kapote\n"
     ]
    }
   ],
   "source": [
    "hello='hello my name is shree kapote'\n",
    "\n",
    "print(hello.replace('shree','shree Rajendra'))\n",
    "\n",
    "print(hello)# strings are immutable "
   ]
  },
  {
   "cell_type": "raw",
   "id": "2f79b37f",
   "metadata": {},
   "source": [
    "hello2=(hello.replace('shree','shree Rajendra'))\n",
    "print(hello2)\n",
    "print(hello)"
   ]
  }
 ],
 "metadata": {
  "kernelspec": {
   "display_name": "Python 3 (ipykernel)",
   "language": "python",
   "name": "python3"
  },
  "language_info": {
   "codemirror_mode": {
    "name": "ipython",
    "version": 3
   },
   "file_extension": ".py",
   "mimetype": "text/x-python",
   "name": "python",
   "nbconvert_exporter": "python",
   "pygments_lexer": "ipython3",
   "version": "3.11.1"
  }
 },
 "nbformat": 4,
 "nbformat_minor": 5
}
