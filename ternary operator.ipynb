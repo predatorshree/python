{
 "cells": [
  {
   "cell_type": "code",
   "execution_count": 2,
   "id": "8aa7cbe9",
   "metadata": {},
   "outputs": [
    {
     "name": "stdout",
     "output_type": "stream",
     "text": [
      "is not allowed to message\n"
     ]
    }
   ],
   "source": [
    "is_friend = False\n",
    "can_message =\"message allowed\"if is_friend else \"is not allowed to message\"\n",
    "print(can_message)"
   ]
  }
 ],
 "metadata": {
  "kernelspec": {
   "display_name": "Python 3 (ipykernel)",
   "language": "python",
   "name": "python3"
  },
  "language_info": {
   "codemirror_mode": {
    "name": "ipython",
    "version": 3
   },
   "file_extension": ".py",
   "mimetype": "text/x-python",
   "name": "python",
   "nbconvert_exporter": "python",
   "pygments_lexer": "ipython3",
   "version": "3.11.1"
  }
 },
 "nbformat": 4,
 "nbformat_minor": 5
}
