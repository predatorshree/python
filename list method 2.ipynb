{
 "cells": [
  {
   "cell_type": "code",
   "execution_count": 25,
   "id": "98f615ba",
   "metadata": {},
   "outputs": [
    {
     "name": "stdout",
     "output_type": "stream",
     "text": [
      "None\n",
      "['a', 'b', 'c', 'd', 'd', 'e', 'x']\n",
      "['a', 'b', 'c', 'd', 'd', 'e', 'x']\n",
      "['x', 'e', 'd', 'd', 'c', 'b', 'a']\n"
     ]
    }
   ],
   "source": [
    "cart=[1,2,3,4,5]\n",
    "cart2=['a','b','c','d','e']\n",
    "# print(cart.index(1))\n",
    "# print(cart2.index('d',0,4))\n",
    "\n",
    "# print('d' in cart)\n",
    "# print('d' in cart2)\n",
    "\n",
    "# print('shree' in 'shree rajendra kapote')\n",
    "cart3=['a','x','b','c','d','e','d']\n",
    "# print(cart3.count('d'))\n",
    "print(cart3.sort())\n",
    "# cart.sort()\n",
    "# print(cart3)\n",
    "# print(sorted(cart3))\n",
    "new_cart=cart3.copy()\n",
    "new_cart.sort()\n",
    "print(new_cart)\n",
    "print(cart3)\n",
    "cart3.reverse()\n",
    "print(cart3)"
   ]
  }
 ],
 "metadata": {
  "kernelspec": {
   "display_name": "Python 3 (ipykernel)",
   "language": "python",
   "name": "python3"
  },
  "language_info": {
   "codemirror_mode": {
    "name": "ipython",
    "version": 3
   },
   "file_extension": ".py",
   "mimetype": "text/x-python",
   "name": "python",
   "nbconvert_exporter": "python",
   "pygments_lexer": "ipython3",
   "version": "3.11.1"
  }
 },
 "nbformat": 4,
 "nbformat_minor": 5
}
