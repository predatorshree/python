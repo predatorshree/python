{
 "cells": [
  {
   "cell_type": "code",
   "execution_count": 2,
   "id": "8e113604",
   "metadata": {},
   "outputs": [
    {
     "name": "stdout",
     "output_type": "stream",
     "text": [
      "12\n"
     ]
    }
   ],
   "source": [
    "#augmented assignment operator\n",
    "some_value=10\n",
    "some_value+=2 #augmented assignment operator\n",
    "print(some_value)"
   ]
  },
  {
   "cell_type": "code",
   "execution_count": null,
   "id": "4fd89db3",
   "metadata": {},
   "outputs": [],
   "source": []
  }
 ],
 "metadata": {
  "kernelspec": {
   "display_name": "Python 3 (ipykernel)",
   "language": "python",
   "name": "python3"
  },
  "language_info": {
   "codemirror_mode": {
    "name": "ipython",
    "version": 3
   },
   "file_extension": ".py",
   "mimetype": "text/x-python",
   "name": "python",
   "nbconvert_exporter": "python",
   "pygments_lexer": "ipython3",
   "version": "3.11.1"
  }
 },
 "nbformat": 4,
 "nbformat_minor": 5
}
