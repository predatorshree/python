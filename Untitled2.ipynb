{
 "cells": [
  {
   "cell_type": "code",
   "execution_count": 1,
   "id": "04a8553b",
   "metadata": {},
   "outputs": [
    {
     "name": "stdout",
     "output_type": "stream",
     "text": [
      "11\n"
     ]
    }
   ],
   "source": [
    "   print(len('shreekapote'))"
   ]
  },
  {
   "cell_type": "code",
   "execution_count": 3,
   "id": "838de177",
   "metadata": {},
   "outputs": [
    {
     "name": "stdout",
     "output_type": "stream",
     "text": [
      "shreekapote\n"
     ]
    }
   ],
   "source": [
    "hello='shreekapote'\n",
    "print(hello[:])"
   ]
  },
  {
   "cell_type": "code",
   "execution_count": 10,
   "id": "fa98ba9a",
   "metadata": {},
   "outputs": [
    {
     "name": "stdout",
     "output_type": "stream",
     "text": [
      "Hello!shreekapote\n",
      "6\n",
      "hello!ShreeRajendrakapote\n",
      "hello!shreekapote\n",
      "hello!ShreeRajendrakapote\n"
     ]
    }
   ],
   "source": [
    "quote='hello!shreekapote'\n",
    "print(quote.capitalize())\n",
    "print(quote.find('shree'))\n",
    "print(quote.replace('shree','ShreeRajendra'))\n",
    "print(quote)\n",
    "quote2=(quote.replace('shree','ShreeRajendra'))\n",
    "print(quote2)"
   ]
  },
  {
   "cell_type": "code",
   "execution_count": null,
   "id": "87ba2e6e",
   "metadata": {},
   "outputs": [],
   "source": []
  }
 ],
 "metadata": {
  "kernelspec": {
   "display_name": "Python 3 (ipykernel)",
   "language": "python",
   "name": "python3"
  },
  "language_info": {
   "codemirror_mode": {
    "name": "ipython",
    "version": 3
   },
   "file_extension": ".py",
   "mimetype": "text/x-python",
   "name": "python",
   "nbconvert_exporter": "python",
   "pygments_lexer": "ipython3",
   "version": "3.11.1"
  }
 },
 "nbformat": 4,
 "nbformat_minor": 5
}
