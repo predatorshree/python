{
 "cells": [
  {
   "cell_type": "code",
   "execution_count": 17,
   "id": "9341d37b",
   "metadata": {},
   "outputs": [
    {
     "name": "stdout",
     "output_type": "stream",
     "text": [
      "hello mr shree Rajendra kapote\n"
     ]
    }
   ],
   "source": [
    "  cart=['a','x','b','c','d','e','d']\n",
    "cart.sort()\n",
    "cart.reverse()\n",
    "# print(cart[::-1])\n",
    "# print(cart)\n",
    "\n",
    "# print(list(range(101)))\n",
    "sentence=' '\n",
    "\n",
    "new_line=sentence.join(['hello','mr','shree','Rajendra','kapote']) #join method\n",
    "print(new_line)\n"
   ]
  },
  {
   "cell_type": "code",
   "execution_count": 20,
   "id": "743189f7",
   "metadata": {},
   "outputs": [
    {
     "name": "stdout",
     "output_type": "stream",
     "text": [
      "1\n",
      "[4, 5, 6, 7, 8]\n",
      "9\n"
     ]
    }
   ],
   "source": [
    "#list unpacking\n",
    "a,b,c,*o,w=[1,2,3,4,5,6,7,8,9]\n",
    "\n",
    "print(1)\n",
    "print(o)\n",
    "print(w)"
   ]
  }
 ],
 "metadata": {
  "kernelspec": {
   "display_name": "Python 3 (ipykernel)",
   "language": "python",
   "name": "python3"
  },
  "language_info": {
   "codemirror_mode": {
    "name": "ipython",
    "version": 3
   },
   "file_extension": ".py",
   "mimetype": "text/x-python",
   "name": "python",
   "nbconvert_exporter": "python",
   "pygments_lexer": "ipython3",
   "version": "3.11.1"
  }
 },
 "nbformat": 4,
 "nbformat_minor": 5
}
