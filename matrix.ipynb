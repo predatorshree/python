{
 "cells": [
  {
   "cell_type": "code",
   "execution_count": 8,
   "id": "2e0554a8",
   "metadata": {
    "scrolled": true
   },
   "outputs": [],
   "source": [
    " matrix=[\n",
    "     [1,5,9],\n",
    "     [0,7,0],\n",
    "     [1,0,1]\n",
    "     \n",
    " ]\n",
    "print(matrix[0][1]) \n"
   ]
  },
  {
   "cell_type": "code",
   "execution_count": 11,
   "id": "581b081d",
   "metadata": {},
   "outputs": [],
   "source": [
    "print(matrix[0][2])"
   ]
  }
 ],
 "metadata": {
  "kernelspec": {
   "display_name": "Python 3 (ipykernel)",
   "language": "python",
   "name": "python3"
  },
  "language_info": {
   "codemirror_mode": {
    "name": "ipython",
    "version": 3
   },
   "file_extension": ".py",
   "mimetype": "text/x-python",
   "name": "python",
   "nbconvert_exporter": "python",
   "pygments_lexer": "ipython3",
   "version": "3.11.1"
  }
 },
 "nbformat": 4,
 "nbformat_minor": 5
}
