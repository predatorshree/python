{
 "cells": [
  {
   "cell_type": "code",
   "execution_count": 13,
   "id": "1ab06142",
   "metadata": {},
   "outputs": [
    {
     "name": "stdout",
     "output_type": "stream",
     "text": [
      "<class 'str'>\n",
      "\n",
      "  WOW\n",
      "  0 0\n",
      "  ---\n",
      "  \n",
      "shree kapote\n"
     ]
    }
   ],
   "source": [
    " print(type(\"hello!my name is shree kapote\"))\n",
    "# username ='shreekapote'\n",
    "#    password ='shree1234'\n",
    "    \n",
    "long_string='''\n",
    "   WOW\n",
    "   0 0\n",
    "   ---\n",
    "   '''\n",
    "print(long_string)\n",
    "\n",
    "first_name='shree'\n",
    "last_name=' kapote'\n",
    "full_name= first_name+last_name\n",
    "print(full_name)"
   ]
  },
  {
   "cell_type": "code",
   "execution_count": 22,
   "id": "e3bdfff7",
   "metadata": {},
   "outputs": [
    {
     "name": "stdout",
     "output_type": "stream",
     "text": [
      "shree5\n"
     ]
    }
   ],
   "source": [
    "#sting concatenation\n",
    "print('shree'+'5')\n",
    "      "
   ]
  },
  {
   "cell_type": "code",
   "execution_count": 30,
   "id": "fc9120e6",
   "metadata": {},
   "outputs": [
    {
     "name": "stdout",
     "output_type": "stream",
     "text": [
      "<class 'int'>\n",
      "<class 'int'>\n"
     ]
    }
   ],
   "source": [
    "#type covversion\n",
    "print(type(int(str(100))))\n",
    "\n",
    "a= str(100)\n",
    "b=int (a)\n",
    "c=type(b)\n",
    " \n",
    "print(c)\n",
    "\n",
    " "
   ]
  },
  {
   "cell_type": "code",
   "execution_count": null,
   "id": "defd8104",
   "metadata": {},
   "outputs": [],
   "source": []
  }
 ],
 "metadata": {
  "kernelspec": {
   "display_name": "Python 3 (ipykernel)",
   "language": "python",
   "name": "python3"
  },
  "language_info": {
   "codemirror_mode": {
    "name": "ipython",
    "version": 3
   },
   "file_extension": ".py",
   "mimetype": "text/x-python",
   "name": "python",
   "nbconvert_exporter": "python",
   "pygments_lexer": "ipython3",
   "version": "3.11.1"
  }
 },
 "nbformat": 4,
 "nbformat_minor": 5
}
