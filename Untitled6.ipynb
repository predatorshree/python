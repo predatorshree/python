{
 "cells": [
  {
   "cell_type": "code",
   "execution_count": 1,
   "id": "3890b52c",
   "metadata": {},
   "outputs": [
    {
     "name": "stdout",
     "output_type": "stream",
     "text": [
      "1 2 3\n"
     ]
    }
   ],
   "source": [
    "print(1,2,3)"
   ]
  },
  {
   "cell_type": "code",
   "execution_count": 15,
   "id": "20871ba6",
   "metadata": {},
   "outputs": [
    {
     "name": "stdout",
     "output_type": "stream",
     "text": [
      "shrees'hre\n",
      "2+3\n",
      "<class 'complex'>\n"
     ]
    }
   ],
   "source": [
    "\n",
    "print(\"shrees'hre\")\n",
    "print('2+3')\n",
    "x=2+0j\n",
    "print(type(x))"
   ]
  },
  {
   "cell_type": "code",
   "execution_count": 21,
   "id": "2c12c149",
   "metadata": {},
   "outputs": [
    {
     "name": "stdout",
     "output_type": "stream",
     "text": [
      "(4+1j)\n",
      "4.0\n"
     ]
    }
   ],
   "source": [
    "k=(2+1j)+(2+0j)\n",
    "print(k)\n",
    "print(k.real)"
   ]
  },
  {
   "cell_type": "code",
   "execution_count": 24,
   "id": "7aef85be",
   "metadata": {},
   "outputs": [
    {
     "name": "stdout",
     "output_type": "stream",
     "text": [
      "-924.0\n"
     ]
    }
   ],
   "source": [
    "num=-423.50\n",
    "no=-500.50\n",
    "sum= num+no\n",
    "print(sum)"
   ]
  },
  {
   "cell_type": "code",
   "execution_count": 30,
   "id": "fef1026a",
   "metadata": {},
   "outputs": [
    {
     "name": "stdout",
     "output_type": "stream",
     "text": [
      "3.3333333333333335\n",
      "<class 'int'>\n"
     ]
    }
   ],
   "source": [
    "print(10/3)\n",
    "\n",
    "f='123'\n",
    "print(type(int(f)))"
   ]
  }
 ],
 "metadata": {
  "kernelspec": {
   "display_name": "Python 3 (ipykernel)",
   "language": "python",
   "name": "python3"
  },
  "language_info": {
   "codemirror_mode": {
    "name": "ipython",
    "version": 3
   },
   "file_extension": ".py",
   "mimetype": "text/x-python",
   "name": "python",
   "nbconvert_exporter": "python",
   "pygments_lexer": "ipython3",
   "version": "3.11.1"
  }
 },
 "nbformat": 4,
 "nbformat_minor": 5
}
