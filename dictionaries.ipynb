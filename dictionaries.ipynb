{
 "cells": [
  {
   "cell_type": "code",
   "execution_count": 26,
   "id": "ff6a976b",
   "metadata": {},
   "outputs": [
    {
     "name": "stdout",
     "output_type": "stream",
     "text": [
      "True\n",
      "3\n"
     ]
    }
   ],
   "source": [
    "#dictionary\n",
    "x = {'a': [1,2,3],\n",
    "     'b': 'shree',\n",
    "     'c': True\n",
    "    }\n",
    "liste=[\n",
    "     {'a': [1,2,3],\n",
    "     'b': 'shree',\n",
    "     'c': True\n",
    "    },\n",
    "     {'a': [4,5,6],\n",
    "     'b': 'shree',\n",
    "     'c': True\n",
    "    },\n",
    "    \n",
    "]\n",
    "print(x['c'])\n",
    "print(liste[0]['a'][2])\n",
    "    \n",
    "   "
   ]
  },
  {
   "cell_type": "code",
   "execution_count": 3,
   "id": "912e8b82",
   "metadata": {},
   "outputs": [
    {
     "name": "stdout",
     "output_type": "stream",
     "text": [
      "no value\n",
      "{'name': 'shree'}\n",
      "{'name': 'rajendra'}\n"
     ]
    }
   ],
   "source": [
    "#dictionary methods\n",
    "user={\n",
    "    'hello':[1,2,3],\n",
    "    'qello':'to',\n",
    "    'k':20\n",
    "}\n",
    "print(user.get('a','no value'))\n",
    "user2= dict(name='shree')\n",
    "user3= dict(name=\"rajendra\")\n",
    "print(user2)\n",
    "print(user3)"
   ]
  },
  {
   "cell_type": "code",
   "execution_count": 26,
   "id": "9a6a16e2",
   "metadata": {
    "scrolled": true
   },
   "outputs": [
    {
     "name": "stdout",
     "output_type": "stream",
     "text": [
      "True\n",
      "True\n",
      "False\n",
      "False\n",
      "dict_items([('hello', [1, 2, 3]), ('k', 20)])\n",
      "{'hello': [1, 2, 3], 'k': 20}\n",
      "{'hello': [1, 2, 3], 'k': 20}\n",
      "('k', 20)\n",
      "{'hello': [1, 2, 3]}\n"
     ]
    }
   ],
   "source": [
    "#dictionary methods 2\n",
    "print('hello' in user)\n",
    "print('hello' in user.keys())\n",
    "print('yo' in user.keys())\n",
    "print('to' in user.values())\n",
    "\n",
    "print(user.items())\n",
    "\n",
    "user5=user.copy()\n",
    "\n",
    "print(user)\n",
    "print(user5)\n",
    "# user.pop('qello')\n",
    "print(user.popitem())\n",
    "print(user)"
   ]
  }
 ],
 "metadata": {
  "kernelspec": {
   "display_name": "Python 3 (ipykernel)",
   "language": "python",
   "name": "python3"
  },
  "language_info": {
   "codemirror_mode": {
    "name": "ipython",
    "version": 3
   },
   "file_extension": ".py",
   "mimetype": "text/x-python",
   "name": "python",
   "nbconvert_exporter": "python",
   "pygments_lexer": "ipython3",
   "version": "3.11.1"
  }
 },
 "nbformat": 4,
 "nbformat_minor": 5
}
