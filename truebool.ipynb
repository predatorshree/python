{
 "cells": [
  {
   "cell_type": "code",
   "execution_count": null,
   "id": "8eca6383",
   "metadata": {},
   "outputs": [],
   "source": [
    "name='shree'\n",
    "is_cool = False\n",
    "\n",
    "is_cool =True"
   ]
  },
  {
   "cell_type": "code",
   "execution_count": 6,
   "id": "ba7d6d6c",
   "metadata": {},
   "outputs": [
    {
     "name": "stdout",
     "output_type": "stream",
     "text": [
      "True\n"
     ]
    }
   ],
   "source": [
    "print(bool(1))"
   ]
  },
  {
   "cell_type": "code",
   "execution_count": null,
   "id": "c9e18f59",
   "metadata": {},
   "outputs": [],
   "source": [
    "print(bool(1))"
   ]
  },
  {
   "cell_type": "code",
   "execution_count": null,
   "id": "8609127d",
   "metadata": {},
   "outputs": [],
   "source": [
    "#exercise type conversions"
   ]
  },
  {
   "cell_type": "code",
   "execution_count": null,
   "id": "a345734e",
   "metadata": {},
   "outputs": [],
   "source": [
    "name='shree kapote'\n",
    "age=20\n",
    "relationship_status='single'\n",
    "\n",
    "reltionship_status='it\\'s complicated'\n",
    "\n",
    "print(reltionship_status)\n",
    "\n"
   ]
  },
  {
   "cell_type": "code",
   "execution_count": null,
   "id": "c5f6aa7a",
   "metadata": {},
   "outputs": [],
   "source": [
    "birth= input(\"what year you were born?\")\n",
    "print(type (birth))\n",
    "\n",
    "age= 2023 - int(birth)\n",
    "\n",
    "print(f'your age is: {age}')\n"
   ]
  },
  {
   "cell_type": "code",
   "execution_count": null,
   "id": "28899e8f",
   "metadata": {},
   "outputs": [],
   "source": []
  },
  {
   "cell_type": "code",
   "execution_count": null,
   "id": "f288e9d1",
   "metadata": {},
   "outputs": [],
   "source": []
  }
 ],
 "metadata": {
  "kernelspec": {
   "display_name": "Python 3 (ipykernel)",
   "language": "python",
   "name": "python3"
  },
  "language_info": {
   "codemirror_mode": {
    "name": "ipython",
    "version": 3
   },
   "file_extension": ".py",
   "mimetype": "text/x-python",
   "name": "python",
   "nbconvert_exporter": "python",
   "pygments_lexer": "ipython3",
   "version": "3.11.1"
  }
 },
 "nbformat": 4,
 "nbformat_minor": 5
}
